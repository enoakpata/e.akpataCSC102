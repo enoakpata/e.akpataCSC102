{
 "cells": [
  {
   "cell_type": "code",
   "execution_count": null,
   "id": "391596e6",
   "metadata": {},
   "outputs": [],
   "source": [
    "P = int(input(\"What's your principal: \"))\n",
    "R = float(input(\"What's the rate: \"))\n",
    "T = int(input(\"What's the time: \"))\n",
    "\n",
    "A= P * (1 + (R * 100) * T )\n",
    "print(f\"the amount is {A}\")"
   ]
  },
  {
   "cell_type": "code",
   "execution_count": null,
   "id": "553d05b8",
   "metadata": {},
   "outputs": [],
   "source": [
    "P = int(input(\"Principal: \"))\n",
    "R = float(input(\"Rate: \"))\n",
    "t = int(input(\"time: \"))\n",
    "n = int(input(\"no of times interest was applied: \"))\n",
    "\n",
    "A = P * (1 + (R/n))**(n*t)\n",
    "print(f\"your amount is {A}\")"
   ]
  },
  {
   "cell_type": "code",
   "execution_count": null,
   "id": "ce38013d",
   "metadata": {},
   "outputs": [],
   "source": [
    "PMT = int(input(\"PMT: \"))\n",
    "R = float(input(\"Rate: \"))\n",
    "t = int(input(\"time: \"))\n",
    "n = int(input(\"no of times interest was applied: \"))\n",
    "\n",
    "A = PMT * ((1 + (R/N)**nt)-1)/(R/n)\n",
    "print(f\"the amount is {A}\")"
   ]
  },
  {
   "cell_type": "code",
   "execution_count": null,
   "id": "10b44873",
   "metadata": {},
   "outputs": [],
   "source": []
  }
 ],
 "metadata": {
  "kernelspec": {
   "display_name": "Python 3 (ipykernel)",
   "language": "python",
   "name": "python3"
  },
  "language_info": {
   "codemirror_mode": {
    "name": "ipython",
    "version": 3
   },
   "file_extension": ".py",
   "mimetype": "text/x-python",
   "name": "python",
   "nbconvert_exporter": "python",
   "pygments_lexer": "ipython3",
   "version": "3.10.9"
  }
 },
 "nbformat": 4,
 "nbformat_minor": 5
}
