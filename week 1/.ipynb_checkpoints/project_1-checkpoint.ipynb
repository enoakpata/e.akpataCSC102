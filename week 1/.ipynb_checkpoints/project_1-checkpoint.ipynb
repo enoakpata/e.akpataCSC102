{
 "cells": [
  {
   "cell_type": "code",
   "execution_count": 2,
   "id": "391596e6",
   "metadata": {},
   "outputs": [
    {
     "name": "stdout",
     "output_type": "stream",
     "text": [
      "What's your principal: 3\n",
      "What's the rate: 4\n",
      "What's the time: 5\n",
      "6003.0\n"
     ]
    }
   ],
   "source": [
    "P = int(input(\"What's your principal: \"))\n",
    "R = float(input(\"What's the rate: \"))\n",
    "T = int(input(\"What's the time: \"))\n",
    "\n",
    "A= P * (1 + (R * 100) * T )\n",
    "print(A)"
   ]
  },
  {
   "cell_type": "code",
   "execution_count": null,
   "id": "52f02a79",
   "metadata": {},
   "outputs": [],
   "source": []
  }
 ],
 "metadata": {
  "kernelspec": {
   "display_name": "Python 3 (ipykernel)",
   "language": "python",
   "name": "python3"
  },
  "language_info": {
   "codemirror_mode": {
    "name": "ipython",
    "version": 3
   },
   "file_extension": ".py",
   "mimetype": "text/x-python",
   "name": "python",
   "nbconvert_exporter": "python",
   "pygments_lexer": "ipython3",
   "version": "3.10.9"
  }
 },
 "nbformat": 4,
 "nbformat_minor": 5
}
