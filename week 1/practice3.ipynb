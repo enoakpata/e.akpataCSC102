{
 "cells": [
  {
   "cell_type": "code",
   "execution_count": 3,
   "id": "ae6cde15",
   "metadata": {},
   "outputs": [
    {
     "name": "stdout",
     "output_type": "stream",
     "text": [
      "number is <= 9 or >= 9999\n"
     ]
    }
   ],
   "source": [
    "num = 100\n",
    "\n",
    "if 9 < num < 99:\n",
    "    \n",
    "    print(\"Two digit number\")\n",
    "    \n",
    "    if 99 < num < 999:\n",
    "        \n",
    "        print(\"Three digit number\")\n",
    "    \n",
    "        if 999 < num < 9999:\n",
    "    \n",
    "            print(\"Four digit number\")\n",
    "    \n",
    "else:\n",
    "    \n",
    "    print(\"number is <= 9 or >= 9999\")"
   ]
  },
  {
   "cell_type": "code",
   "execution_count": null,
   "id": "1e404871",
   "metadata": {},
   "outputs": [],
   "source": []
  }
 ],
 "metadata": {
  "kernelspec": {
   "display_name": "Python 3 (ipykernel)",
   "language": "python",
   "name": "python3"
  },
  "language_info": {
   "codemirror_mode": {
    "name": "ipython",
    "version": 3
   },
   "file_extension": ".py",
   "mimetype": "text/x-python",
   "name": "python",
   "nbconvert_exporter": "python",
   "pygments_lexer": "ipython3",
   "version": "3.10.9"
  }
 },
 "nbformat": 4,
 "nbformat_minor": 5
}
