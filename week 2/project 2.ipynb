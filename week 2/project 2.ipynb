{
 "cells": [
  {
   "cell_type": "code",
   "execution_count": null,
   "id": "50a806b8",
   "metadata": {},
   "outputs": [],
   "source": [
    "A = float(input(\"what is the value of A: \"))\n",
    "B = float(input(\"What is the value of B: \"))\n",
    "C = float(input(\"What is the value of C: \"))\n",
    "D = float(input(\"What is the value of D: \"))\n",
    "\n",
    "a1 = B / A\n",
    "a2 = C / A\n",
    "a3 = D / A\n",
    "i = ( -1) ** 1/2\n",
    "\n",
    "Q = ((3*a2) - (a1**2))/9\n",
    "R = ((9*a1*a2) - (27*a3) - ((2*a1**3)))/54\n",
    "S = ((R + (((Q)**3) + ((R)**2))**1/2))**1/3\n",
    "T = ((R - (((Q)**3) + ((R)**2))**1/2))**1/3\n",
    "\n",
    "x1 = S + T - 1/3*a1\n",
    "x2 = -(1/2)*(S + T)-((1/3)*a1) + ((((1/2)*i)*((3)**1/2))*(S - T))\n",
    "x3 = -(1/2)*(S + T)-((1/3)*a1) - ((((1/2)*i)*((3)**1/2))*(S - T))\n",
    "\n",
    "print(\"the roots of the equation are {x1}, {x2} and {x3}.\")"
   ]
  }
 ],
 "metadata": {
  "kernelspec": {
   "display_name": "Python 3 (ipykernel)",
   "language": "python",
   "name": "python3"
  },
  "language_info": {
   "codemirror_mode": {
    "name": "ipython",
    "version": 3
   },
   "file_extension": ".py",
   "mimetype": "text/x-python",
   "name": "python",
   "nbconvert_exporter": "python",
   "pygments_lexer": "ipython3",
   "version": "3.10.9"
  }
 },
 "nbformat": 4,
 "nbformat_minor": 5
}
