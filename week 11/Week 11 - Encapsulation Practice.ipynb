{
 "cells": [
  {
   "cell_type": "markdown",
   "metadata": {},
   "source": [
    "# Encapsulation in Python"
   ]
  },
  {
   "cell_type": "markdown",
   "metadata": {},
   "source": [
    "<ul><li>Encapsulation is the concept of bundling data and methods within a single unit. For example, when you create a class, it means you are implementing encapsulation. A class is an example of encapsulation as it binds all the data members (instance variables) and methods into a single unit.</li><li>\n",
    "\n",
    "Using encapsulation, we can hide an object’s internal representation from the outside. This is called information hiding.</li><li>\n",
    "\n",
    "Encapsulation allows us to restrict accessing variables and methods directly and prevent accidental data modification by creating private data members and methods within a class.</li><li>\n",
    "\n",
    "Encapsulation is a way to restrict access to methods and variables from outside of class. Whenever working with the class and dealing with sensitive data, providing access to all variables used within the class is not a good choice.</li></ul>"
   ]
  },
  {
   "cell_type": "code",
   "execution_count": 4,
   "metadata": {},
   "outputs": [
    {
     "name": "stdout",
     "output_type": "stream",
     "text": [
      "Enter your name: csc\n",
      "How much do you earn: 1000\n",
      "What project are you working on: csc\n",
      "\n",
      "Name:  csc \n",
      "Salary: N1000\n",
      "csc is working on csc\n"
     ]
    }
   ],
   "source": [
    "# A program that displays employees information\n",
    "\n",
    "class Employee:\n",
    "    \n",
    "    # constructor\n",
    "    def __init__(self, name, salary, project):        \n",
    "        # instance variables\n",
    "        self.name = name\n",
    "        self.salary = salary\n",
    "        self.project = project\n",
    "\n",
    "    # method to display employee's details\n",
    "    def show(self):        \n",
    "        # accessing public instance variables\n",
    "        print(\"\\nName: \" , self.name, '\\nSalary:', \"N\"+str(self.salary))\n",
    "\n",
    "    # method\n",
    "    def work(self):\n",
    "        print(self.name, 'is working on', self.project)\n",
    "\n",
    "\n",
    "name = input(\"Enter your name: \")\n",
    "salary = int(input(\"How much do you earn: \"))\n",
    "project = input(\"What project are you working on: \")\n",
    "\n",
    "# creating object of a class\n",
    "emp = Employee(name, salary, project)\n",
    "\n",
    "# calling public method of the class\n",
    "emp.show()\n",
    "emp.work()"
   ]
  },
  {
   "cell_type": "markdown",
   "metadata": {},
   "source": [
    "## Access Modifiers in Python"
   ]
  },
  {
   "cell_type": "markdown",
   "metadata": {},
   "source": [
    "<ul><li>Encapsulation can be achieved by declaring the data members and methods of a class either as private or protected.</li><li> In Python, there is no direct access modifiers like public, private, and protected. </li><li>This can achieve by using single underscore and double underscores.</li></ul>\n",
    "\n",
    "Access modifiers limit access to the variables and methods of a class. Python provides three types of access modifiers private, public, and protected.\n",
    "\n",
    "<ul><li><b>Public Instance Variable:</b> Accessible anywhere from outside oclass.</li><li>\n",
    "    <b>Private Instance Variable:</b> Accessible within the class.</li><li>\n",
    "    <b>Protected Instance Variable:</b> Accessible within the class and its sub-classes.</li></ul>"
   ]
  },
  {
   "cell_type": "markdown",
   "metadata": {},
   "source": [
    "### Public Instance Variable\n",
    "Public instance variables are accessible within and outside of a class. All member variables of the class are by default public."
   ]
  },
  {
   "cell_type": "code",
   "execution_count": 8,
   "metadata": {},
   "outputs": [
    {
     "name": "stdout",
     "output_type": "stream",
     "text": [
      "Enter your name: eno\n",
      "Enter your salary: 1000\n",
      "Name:  eno Salary: N1000\n",
      "Name: eno, Salary: 1000\n"
     ]
    }
   ],
   "source": [
    "class Employee:\n",
    "    \n",
    "    # constructor\n",
    "    def __init__(self, name, salary):        \n",
    "        # public instance variables\n",
    "        self.name = name\n",
    "        self.salary = salary\n",
    "\n",
    "    # public instance methods\n",
    "    def show(self):\n",
    "        # accessing public instance variables\n",
    "        print(f\"Name: {self.name}, Salary: {self.salary}\")\n",
    "\n",
    "#input name and salary\n",
    "name = input(\"Enter your name: \")\n",
    "salary = int(input(\"Enter your salary: \"))\n",
    "\n",
    "# creating object of a class\n",
    "emp = Employee(name, salary)\n",
    "\n",
    "# accessing public instance variables\n",
    "print(\"Name: \", emp.name, 'Salary:', \"N{}\".format(emp.salary))\n",
    "\n",
    "# calling public method of the class\n",
    "emp.show()"
   ]
  },
  {
   "cell_type": "markdown",
   "metadata": {},
   "source": [
    "### Private Instance Variable\n",
    "<ul><li>Protect variables in the class by marking them private. To define a private variable add two underscores as a prefix at the start of a variable name.</li><li>\n",
    "\n",
    "Private instance variables are accessible only within the class, and we can’t access them directly from the class objects.</li></ul>"
   ]
  },
  {
   "cell_type": "code",
   "execution_count": 11,
   "metadata": {},
   "outputs": [
    {
     "name": "stdout",
     "output_type": "stream",
     "text": [
      "Name:  Lemuel Otu\n",
      "Salary: 10000\n"
     ]
    }
   ],
   "source": [
    "class Employee:\n",
    "    \n",
    "    # constructor\n",
    "    def __init__(self, name, salary):        \n",
    "        # public instance variable\n",
    "        self.name = name\n",
    "        \n",
    "        # private variable\n",
    "        self.salary = salary\n",
    "\n",
    "# creating object of a class\n",
    "emp = Employee('Lemuel Otu', 10000)\n",
    "\n",
    "# accessing public instance variables\n",
    "print(\"Name: \", emp.name)\n",
    "\n",
    "# accessing private instance variable\n",
    "print('Salary:', emp.salary)"
   ]
  },
  {
   "cell_type": "markdown",
   "metadata": {},
   "source": [
    "To access private members from outside of a class using the following two approaches\n",
    "\n",
    "<ul><li>Create public method to access private members</li><li>\n",
    "Use name mangling</li></ul>"
   ]
  },
  {
   "cell_type": "markdown",
   "metadata": {},
   "source": [
    "#### Access Private member outside of a class using an instance method"
   ]
  },
  {
   "cell_type": "code",
   "execution_count": 15,
   "metadata": {},
   "outputs": [
    {
     "name": "stdout",
     "output_type": "stream",
     "text": [
      "Name:  Clinton Okpara \n",
      "Salary: 250000\n"
     ]
    }
   ],
   "source": [
    "class Employee:\n",
    "    \n",
    "    # constructor\n",
    "    def __init__(self, name, salary):        \n",
    "        # public data member\n",
    "        self.name = name\n",
    "        \n",
    "        # private member\n",
    "        self.salary = salary\n",
    "\n",
    "    # public instance methods\n",
    "    def show(self):\n",
    "        # private members are accessible from a class\n",
    "        print(\"Name: \", self.name, '\\nSalary:', self.salary)\n",
    "\n",
    "# creating object of a class\n",
    "emp = Employee('Clinton Okpara', 250000)\n",
    "\n",
    "# calling public method of the class\n",
    "emp.show()"
   ]
  },
  {
   "cell_type": "markdown",
   "metadata": {},
   "source": [
    "#### Name Mangling to access private members\n",
    "<ul><li>Private and protected variables can be directly accessed from outside of a class through name mangling.</li><li> The name mangling is created on an identifier by adding two leading underscores and one trailing underscore, like this <b>_classname__dataMember</b>, where <b><i>classname</i></b> is the current class, and data member is the private variable name.</li></ul>"
   ]
  },
  {
   "cell_type": "code",
   "execution_count": 23,
   "metadata": {},
   "outputs": [
    {
     "name": "stdout",
     "output_type": "stream",
     "text": [
      "Name: eno akpata\n",
      "Salary: N10000\n"
     ]
    }
   ],
   "source": [
    "class Employee:\n",
    "    # constructor\n",
    "    def __init__(self, name, salary):\n",
    "        # public instance variable\n",
    "        self.name = name\n",
    "        \n",
    "        # private variable\n",
    "        self.salary = salary\n",
    "\n",
    "# creating object of a class\n",
    "emp = Employee('eno akpata', 10000)\n",
    "\n",
    "#direct access to public instance variable\n",
    "print('Name:', emp.name)\n",
    "\n",
    "# direct access to private instance variable using name mangling\n",
    "print(f\"Salary: N{emp.salary}\")"
   ]
  },
  {
   "cell_type": "markdown",
   "metadata": {},
   "source": [
    "### Protected Instance Variable\n",
    "<ul><li>Protected instance variables are accessible within the class and also available to its sub-classes. </li><li>To define a protected variable, prefix the variable name with a single underscore <b>_</b>.</li><li>\n",
    "\n",
    "Protected instance variables are used when you implement inheritance and want to allow data members access to only child classes.</li></ul>"
   ]
  },
  {
   "cell_type": "code",
   "execution_count": 43,
   "metadata": {
    "scrolled": true
   },
   "outputs": [
    {
     "name": "stdout",
     "output_type": "stream",
     "text": [
      "Enter your name: eno\n",
      "Enter your project: csc\n",
      "Employee name : eno\n",
      "Working on project : csc\n",
      "Project: project\n"
     ]
    }
   ],
   "source": [
    "# base class\n",
    "class Company:\n",
    "    # base constructor\n",
    "    def __init__(self):\n",
    "        # Protected instance variable\n",
    "        self.project = \"Blockchain Development\"\n",
    "\n",
    "# child class\n",
    "class Employee(Company):\n",
    "    # child constructor\n",
    "    def __init__(self, name, project):\n",
    "        \n",
    "        self.name = name\n",
    "        self.project = project\n",
    "        \n",
    "        # invoke base constructor\n",
    "        #company.__init__(self)\n",
    "\n",
    "    def show(self):\n",
    "        print(f\"Employee name : {name}\")\n",
    "        \n",
    "        # Accessing protected instance variable in child class\n",
    "        print(f\"Working on project : {project}\")\n",
    "\n",
    "name = (input(\"Enter your name: \"))\n",
    "project = (input(\"Enter your project: \"))\n",
    "\n",
    "c = Employee('name', 'project')\n",
    "c.show()\n",
    "\n",
    "# Direct access to protected instance variable\n",
    "#print('Project:', c.project)"
   ]
  },
  {
   "cell_type": "markdown",
   "metadata": {},
   "source": [
    "## Getters and Setters in Python\n",
    "<ul><li>To implement proper encapsulation in Python, setters and getters can be used.</li><li> The primary purpose of using getters and setters in object-oriented programs is to ensure data encapsulation.</li><li> Use the getter method to access instance variables and the setter methods to modify the instance variables.</li></ul>\n",
    "\n",
    "In Python, private variables are not hidden fields like in other programming languages. The getters and setters methods are often used when:\n",
    "\n",
    "<ul><li>When we want to avoid direct access to private variables</li><li>\n",
    "To add validation logic for setting a value</li></ul>"
   ]
  },
  {
   "cell_type": "code",
   "execution_count": 47,
   "metadata": {},
   "outputs": [
    {
     "name": "stdout",
     "output_type": "stream",
     "text": [
      "Name: Chike Okala \n",
      "Age: 34\n",
      "\n",
      "\n",
      "Name: Chike Okala \n",
      "Age: 26\n"
     ]
    }
   ],
   "source": [
    "class Student:\n",
    "    def __init__(self, name, age, gender):\n",
    "        # public instance variable\n",
    "        self.name = name\n",
    "        # private instance variable\n",
    "        self.age = age\n",
    "        self.gender = gender\n",
    "\n",
    "    # getter method\n",
    "    def get_age(self):\n",
    "        return self.age\n",
    "\n",
    "    # setter method\n",
    "    def set_age(self, age):\n",
    "        self.age = age\n",
    "\n",
    "stud = Student('Chike Okala', 34, 'Male')\n",
    "\n",
    "# retrieving age using getter\n",
    "print('Name:', stud.name, \"\\nAge:\", stud.get_age())\n",
    "\n",
    "# changing age using setter\n",
    "stud.set_age(26)\n",
    "\n",
    "# retrieving age using getter\n",
    "print('\\n\\nName:', stud.name, \"\\nAge:\", stud.get_age())"
   ]
  },
  {
   "cell_type": "code",
   "execution_count": 55,
   "metadata": {
    "scrolled": true
   },
   "outputs": [
    {
     "name": "stdout",
     "output_type": "stream",
     "text": [
      "Student Details: Odunayo Agunbiade 10\n",
      "Invalid roll no. Please set correct roll number\n",
      "Student Details: Odunayo Agunbiade 25\n"
     ]
    }
   ],
   "source": [
    "class Student:\n",
    "    # contructor\n",
    "    def __init__(self, name, roll_no, age):\n",
    "        # public instance variable\n",
    "        self.name = name\n",
    "        # private instance variables to restrict access\n",
    "        # avoid direct data modification\n",
    "        self.roll_no = roll_no\n",
    "        self.age = age\n",
    "\n",
    "    def show(self):\n",
    "        print('Student Details:', self.name, self.roll_no)\n",
    "\n",
    "    # getter methods\n",
    "    def get_roll_no(self):\n",
    "        return self.roll_no\n",
    "\n",
    "    # setter method to modify instance varaible\n",
    "    # condition to allow data modification with rules\n",
    "    def set_roll_no(self,name, number):\n",
    "        if number > 50:\n",
    "            print('Invalid roll no. Please set correct roll number')\n",
    "        else:\n",
    "            self.roll_no = number\n",
    "\n",
    "# object instanciation\n",
    "info = Student('Odunayo Agunbiade', 10, 15)\n",
    "\n",
    "# before Modify\n",
    "info.show()\n",
    "\n",
    "# changing roll number using setter\n",
    "info.set_roll_no('Odunayo Agunbiade', 120)\n",
    "\n",
    "\n",
    "info.set_roll_no('eno akpata', 25)\n",
    "info.show()"
   ]
  },
  {
   "cell_type": "markdown",
   "metadata": {},
   "source": [
    "## Class Project I "
   ]
  },
  {
   "cell_type": "markdown",
   "metadata": {},
   "source": [
    "You have been contracted by the Registrar of Pan-Atlantic University (PAU) as an expert OOP developer to access the Student Information System (SIS) of PAU Student Council, inorder to classify the students grades, according to their age, into 3 categories; the pirates, the yankees and the bulls.\n",
    "\n",
    "Should you choose to accept this task, develop an OOP program that reads data from the sis.csv file as attached, following the instructions below: \n",
    "\n",
    "<b>Instructions:</b>\n",
    "    <ul><li>If the student age is greater than 14 and less than 18, create a .csv file for that category called <b>The_Pirates</b> and display it.</li><li>\n",
    "    If the student age is greater than 18 and less than 22, create a file for that category called <b>The_Yankees</b> and display it.</li><li>\n",
    "    If the student age is greater than 22 create a file for that category called <b>The_Bulls</b> and display it.</li></ul>\n"
   ]
  },
  {
   "cell_type": "code",
   "execution_count": 16,
   "metadata": {},
   "outputs": [
    {
     "name": "stdout",
     "output_type": "stream",
     "text": [
      "How old are you: 23\n"
     ]
    }
   ],
   "source": [
    "import pandas as pd\n",
    "\n",
    "class SIS():\n",
    "    def __init__(self, age):\n",
    "        \n",
    "        self.age = age\n",
    "        \n",
    "    def show(self):\n",
    "        \n",
    "        df = pd.read_csv(\"sis.csv\")\n",
    "        if df[(df['Age'] == age)].shape[0] > 0:\n",
    "            if age > 14 & age < 18:\n",
    "                df.to_csv('The_Pirates.csv')\n",
    "                \n",
    "            elif age > 18 & age < 22:\n",
    "                df.to_csv('The_Yankees.csv')\n",
    "                \n",
    "            elif age > 22:\n",
    "                df.to_csv('The_Bulls.csv')\n",
    "                \n",
    "            else:\n",
    "                print('invalid input')\n",
    "        \n",
    "        else:\n",
    "            print('Invalid input')\n",
    "                \n",
    "age = int(input('How old are you: '))\n",
    "\n",
    "registar = SIS('age')\n",
    "registar.show()\n",
    "              \n",
    "              \n",
    "                  \n",
    "                  \n",
    "              \n",
    "              \n",
    "    \n",
    "              \n",
    "\n",
    "    \n",
    "    \n",
    "    "
   ]
  },
  {
   "cell_type": "code",
   "execution_count": null,
   "metadata": {},
   "outputs": [],
   "source": []
  }
 ],
 "metadata": {
  "kernelspec": {
   "display_name": "Python 3 (ipykernel)",
   "language": "python",
   "name": "python3"
  },
  "language_info": {
   "codemirror_mode": {
    "name": "ipython",
    "version": 3
   },
   "file_extension": ".py",
   "mimetype": "text/x-python",
   "name": "python",
   "nbconvert_exporter": "python",
   "pygments_lexer": "ipython3",
   "version": "3.10.9"
  }
 },
 "nbformat": 4,
 "nbformat_minor": 4
}
