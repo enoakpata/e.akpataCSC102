{
 "cells": [
  {
   "cell_type": "code",
   "execution_count": 4,
   "id": "5226cc7c",
   "metadata": {},
   "outputs": [
    {
     "name": "stdout",
     "output_type": "stream",
     "text": [
      "what would you like to calculate: trapezium\n",
      "What is your height: 3\n",
      "What is your base1: 4\n",
      "What is your base2: 5\n",
      "Your area is 13.5\n"
     ]
    }
   ],
   "source": [
    "class formula():\n",
    "    def __init__(self):\n",
    "            pass\n",
    "\n",
    "class trapezium(formula):\n",
    "    def equation1(self):\n",
    "        H = int(input('What is your height: '))\n",
    "        B1 = int(input('What is your base1: '))\n",
    "        B2 = int(input('What is your base2: '))\n",
    "    \n",
    "        area = H/2 * (B1 + B2)\n",
    "        print(f\"Your area is {area}\")\n",
    "    \n",
    "class rhombus(formula):\n",
    "    def equation2(self):\n",
    "        D1 = int(input('What is your diagonal1: '))\n",
    "        D2 = int(input('What is your diagonal2: '))\n",
    "    \n",
    "        area = 1/2 * D1 * D2\n",
    "        print(f\"Your area is {area}\")\n",
    "          \n",
    "class parallelogram(formula):\n",
    "    def equation3(self):\n",
    "        B = int(input('what is your base: '))\n",
    "        A = int(input('what is your altitude: '))\n",
    "    \n",
    "        area = B * A\n",
    "        print(f\"Your area is {area}\")\n",
    "    \n",
    "class cube(formula):\n",
    "    def equation4(self):\n",
    "        L = int(input('what is the length of the side: '))\n",
    "        \n",
    "        area = 6 * L**2\n",
    "        print(f\"Your area is {area}\")\n",
    "    \n",
    "class cylinder(formula):\n",
    "    def equation5(self):\n",
    "        R = int(input('what is your radius: '))\n",
    "        H = int(input('what is your height: '))\n",
    "    \n",
    "        volume = 3.14 * R**2 * H\n",
    "        print(f\"Your volume is {volume}\")\n",
    "        \n",
    "solution = input('what would you like to calculate: ').lower()\n",
    "f = cylinder()\n",
    "f = cube()\n",
    "f = parallelogram()\n",
    "f = rhombus()\n",
    "f = trapezium()\n",
    "\n",
    "if solution == 'cylinder':\n",
    "    f.equation5()\n",
    "elif solution == 'cube':\n",
    "    f.equation4()\n",
    "elif solution == 'parallelogram':\n",
    "    f.equation3()\n",
    "elif solution == 'rhombus':\n",
    "    f.equation2()\n",
    "elif solution == 'trapezium':\n",
    "    f.equation1()\n",
    "else:\n",
    "    print('invalid input')\n",
    "    \n"
   ]
  },
  {
   "cell_type": "code",
   "execution_count": null,
   "id": "c12b619a",
   "metadata": {},
   "outputs": [],
   "source": []
  }
 ],
 "metadata": {
  "kernelspec": {
   "display_name": "Python 3 (ipykernel)",
   "language": "python",
   "name": "python3"
  },
  "language_info": {
   "codemirror_mode": {
    "name": "ipython",
    "version": 3
   },
   "file_extension": ".py",
   "mimetype": "text/x-python",
   "name": "python",
   "nbconvert_exporter": "python",
   "pygments_lexer": "ipython3",
   "version": "3.10.9"
  }
 },
 "nbformat": 4,
 "nbformat_minor": 5
}
