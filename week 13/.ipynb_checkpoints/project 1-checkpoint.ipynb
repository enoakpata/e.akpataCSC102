{
 "cells": [
  {
   "cell_type": "code",
   "execution_count": 2,
   "id": "abee9156",
   "metadata": {},
   "outputs": [
    {
     "data": {
      "text/html": [
       "<div>\n",
       "<style scoped>\n",
       "    .dataframe tbody tr th:only-of-type {\n",
       "        vertical-align: middle;\n",
       "    }\n",
       "\n",
       "    .dataframe tbody tr th {\n",
       "        vertical-align: top;\n",
       "    }\n",
       "\n",
       "    .dataframe thead th {\n",
       "        text-align: right;\n",
       "    }\n",
       "</style>\n",
       "<table border=\"1\" class=\"dataframe\">\n",
       "  <thead>\n",
       "    <tr style=\"text-align: right;\">\n",
       "      <th></th>\n",
       "      <th>Student Name</th>\n",
       "      <th>Matric. Number</th>\n",
       "      <th>Department</th>\n",
       "      <th>Level</th>\n",
       "    </tr>\n",
       "  </thead>\n",
       "  <tbody>\n",
       "    <tr>\n",
       "      <th>0</th>\n",
       "      <td>Oluchi Mordi</td>\n",
       "      <td>ACC10211111</td>\n",
       "      <td>Accounting</td>\n",
       "      <td>300</td>\n",
       "    </tr>\n",
       "    <tr>\n",
       "      <th>1</th>\n",
       "      <td>Adams Aliyu</td>\n",
       "      <td>ECO10110101</td>\n",
       "      <td>Economics</td>\n",
       "      <td>100</td>\n",
       "    </tr>\n",
       "    <tr>\n",
       "      <th>2</th>\n",
       "      <td>Shania Bolade</td>\n",
       "      <td>CSC10328828</td>\n",
       "      <td>Computer</td>\n",
       "      <td>200</td>\n",
       "    </tr>\n",
       "    <tr>\n",
       "      <th>3</th>\n",
       "      <td>Adekunle Gold</td>\n",
       "      <td>EEE11020202</td>\n",
       "      <td>Electrical</td>\n",
       "      <td>200</td>\n",
       "    </tr>\n",
       "    <tr>\n",
       "      <th>4</th>\n",
       "      <td>Blanca Edemoh</td>\n",
       "      <td>MEE10202001</td>\n",
       "      <td>Mechanical</td>\n",
       "      <td>100</td>\n",
       "    </tr>\n",
       "  </tbody>\n",
       "</table>\n",
       "</div>"
      ],
      "text/plain": [
       "    Student Name Matric. Number  Department  Level\n",
       "0   Oluchi Mordi    ACC10211111  Accounting    300\n",
       "1    Adams Aliyu    ECO10110101   Economics    100\n",
       "2  Shania Bolade    CSC10328828    Computer    200\n",
       "3  Adekunle Gold    EEE11020202  Electrical    200\n",
       "4  Blanca Edemoh    MEE10202001  Mechanical    100"
      ]
     },
     "execution_count": 2,
     "metadata": {},
     "output_type": "execute_result"
    }
   ],
   "source": [
    "import pandas as pd\n",
    "\n",
    "name = []\n",
    "matric_no = []\n",
    "department = []\n",
    "level = []\n",
    "\n",
    "students = input('How many students are there: ')\n",
    "\n",
    "for \n",
    "\n",
    "info = {'Student Name' : ['Oluchi Mordi', 'Adams Aliyu', 'Shania Bolade', 'Adekunle Gold', 'Blanca Edemoh'], \n",
    "       'Matric. Number': ['ACC10211111', 'ECO10110101', 'CSC10328828','EEE11020202', 'MEE10202001'], \n",
    "       'Department': ['Accounting', 'Economics', 'Computer', 'Electrical', 'Mechanical'],\n",
    "       'Level': [300, 100, 200, 200, 100]}\n",
    "\n",
    "df = pd.DataFrame(info)\n",
    "\n",
    "df.to_csv('PAU SMIS.csv')\n",
    "df\n"
   ]
  },
  {
   "cell_type": "code",
   "execution_count": null,
   "id": "0f032b36",
   "metadata": {},
   "outputs": [],
   "source": []
  }
 ],
 "metadata": {
  "kernelspec": {
   "display_name": "Python 3 (ipykernel)",
   "language": "python",
   "name": "python3"
  },
  "language_info": {
   "codemirror_mode": {
    "name": "ipython",
    "version": 3
   },
   "file_extension": ".py",
   "mimetype": "text/x-python",
   "name": "python",
   "nbconvert_exporter": "python",
   "pygments_lexer": "ipython3",
   "version": "3.10.9"
  }
 },
 "nbformat": 4,
 "nbformat_minor": 5
}
