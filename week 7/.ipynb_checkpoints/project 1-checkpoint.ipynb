{
 "cells": [
  {
   "cell_type": "code",
   "execution_count": 17,
   "id": "9024eeb5",
   "metadata": {},
   "outputs": [
    {
     "ename": "SyntaxError",
     "evalue": "invalid syntax (1692104583.py, line 17)",
     "output_type": "error",
     "traceback": [
      "\u001b[1;36m  Cell \u001b[1;32mIn[17], line 17\u001b[1;36m\u001b[0m\n\u001b[1;33m    else:\u001b[0m\n\u001b[1;37m    ^\u001b[0m\n\u001b[1;31mSyntaxError\u001b[0m\u001b[1;31m:\u001b[0m invalid syntax\n"
     ]
    }
   ],
   "source": [
    "# importing pandas package\n",
    "import pandas as pd\n",
    "\n",
    "# making data frame from csv file\n",
    "\n",
    "def check_employee():\n",
    "    \n",
    "    name = input('What is your first name: ')\n",
    "    department = input('What is your department: ')\n",
    "    \n",
    "    df = pd.read_csv(\"jt-ventures.csv\")\n",
    "    if df[(df['FIRST NAME'] == name) &  (df['DEPARTMENT'] == department)].shape[0] > 0:\n",
    "        print('WELCOME!')\n",
    "        \n",
    "        df\n",
    "        \n",
    "    else:\n",
    "        print('Sorry you are not an employee')\n",
    "        \n",
    "check_employee()"
   ]
  },
  {
   "cell_type": "code",
   "execution_count": null,
   "id": "feb53665",
   "metadata": {},
   "outputs": [],
   "source": [
    "# importing pandas package\n",
    "import pandas as pd\n",
    "\n",
    "# making data frame from csv file\n",
    "\n",
    "name = input('What is your first name: ')\n",
    "department = input('What is your department: ')\n",
    "    \n",
    "df = pd.read_csv(\"jt-ventures.csv\")\n",
    "if df[(df['FIRST NAME'] == name) &  (df['DEPARTMENT'] == department)].shape[0] > 0:\n",
    "        print('WELCOME!')\n",
    "        {df}\n",
    "        \n",
    "else:\n",
    "    print('Sorry you are not an employee')\n",
    "        \n"
   ]
  },
  {
   "cell_type": "code",
   "execution_count": null,
   "id": "3c7cade9",
   "metadata": {},
   "outputs": [],
   "source": []
  }
 ],
 "metadata": {
  "kernelspec": {
   "display_name": "Python 3 (ipykernel)",
   "language": "python",
   "name": "python3"
  },
  "language_info": {
   "codemirror_mode": {
    "name": "ipython",
    "version": 3
   },
   "file_extension": ".py",
   "mimetype": "text/x-python",
   "name": "python",
   "nbconvert_exporter": "python",
   "pygments_lexer": "ipython3",
   "version": "3.10.9"
  }
 },
 "nbformat": 4,
 "nbformat_minor": 5
}
