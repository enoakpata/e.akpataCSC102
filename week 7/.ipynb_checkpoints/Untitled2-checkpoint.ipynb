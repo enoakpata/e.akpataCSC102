{
 "cells": [
  {
   "cell_type": "code",
   "execution_count": 17,
   "id": "aa4cb35a",
   "metadata": {},
   "outputs": [
    {
     "name": "stdout",
     "output_type": "stream",
     "text": [
      "What was your score in JAMB: 210\n",
      "What is your name: eno\n",
      "What is your surname: akpata\n",
      "what is your course: csc\n",
      "what is your jamb score: 210\n",
      "How many distinctions did you have: 3\n",
      "What was your feedback on the interview: fail\n"
     ]
    },
    {
     "ename": "TypeError",
     "evalue": "'<=' not supported between instances of 'str' and 'int'",
     "output_type": "error",
     "traceback": [
      "\u001b[1;31m---------------------------------------------------------------------------\u001b[0m",
      "\u001b[1;31mTypeError\u001b[0m                                 Traceback (most recent call last)",
      "Cell \u001b[1;32mIn[17], line 32\u001b[0m\n\u001b[0;32m     28\u001b[0m df \u001b[38;5;241m=\u001b[39m pd\u001b[38;5;241m.\u001b[39mDataFrame(info)\n\u001b[0;32m     30\u001b[0m df\u001b[38;5;241m.\u001b[39mto_csv(\u001b[38;5;124m'\u001b[39m\u001b[38;5;124madmitted.csv\u001b[39m\u001b[38;5;124m'\u001b[39m)\n\u001b[1;32m---> 32\u001b[0m \u001b[38;5;28;01mif\u001b[39;00m \u001b[43mscore\u001b[49m\u001b[43m \u001b[49m\u001b[38;5;241;43m<\u001b[39;49m\u001b[38;5;241;43m=\u001b[39;49m\u001b[43m \u001b[49m\u001b[38;5;241;43m219\u001b[39;49m:\n\u001b[0;32m     33\u001b[0m     name2 \u001b[38;5;241m=\u001b[39m \u001b[38;5;28mstr\u001b[39m(\u001b[38;5;28minput\u001b[39m(\u001b[38;5;124m\"\u001b[39m\u001b[38;5;124mWhat is your name: \u001b[39m\u001b[38;5;124m\"\u001b[39m))\n\u001b[0;32m     34\u001b[0m     surname2 \u001b[38;5;241m=\u001b[39m \u001b[38;5;28mstr\u001b[39m(\u001b[38;5;28minput\u001b[39m(\u001b[38;5;124m\"\u001b[39m\u001b[38;5;124mWhat is your surname: \u001b[39m\u001b[38;5;124m\"\u001b[39m))\n",
      "\u001b[1;31mTypeError\u001b[0m: '<=' not supported between instances of 'str' and 'int'"
     ]
    }
   ],
   "source": [
    "import pandas as pd\n",
    "\n",
    "score = int(input(\"What was your score in JAMB: \"))\n",
    "\n",
    "if score >= 230:\n",
    "    distinctions = float(input(\"How many distinctions did you have: \"))\n",
    "    if distinctions >= 5:\n",
    "        interview = str(input(\"What was your feedback on the interview: \"))\n",
    "        if interview == 'pass':\n",
    "            print(\"YOU HAVE BEEN ADMITTED\")\n",
    "\n",
    "elif score >= 220:\n",
    "    distinctions = float(input(\"How many distinctions did you have: \"))\n",
    "    if distinctions >= 5:\n",
    "        interview = str(input(\"What was your feedback on the interview: \"))\n",
    "        if interview == 'pass':\n",
    "            print(\"YOU HAVE BEEN ADMITTED\")\n",
    "            \n",
    "name = str(input(\"What is your name: \"))\n",
    "surname = str(input(\"What is your surname: \"))\n",
    "course = str(input(\"what is your course: \"))\n",
    "score = str(input(\"what is your jamb score: \"))\n",
    "distinctions = float(input(\"How many distinctions did you have: \"))\n",
    "interview = str(input(\"What was your feedback on the interview: \"))            \n",
    "            \n",
    "info = {'Name': [(name)], 'Surname': [(surname)], 'Course': [(course)], 'JAMB': [(score)], 'Distinctions': [(distinctions)], 'Interview': [(interview)]}\n",
    "            \n",
    "df = pd.DataFrame(info)\n",
    "\n",
    "df.to_csv('admitted.csv')\n",
    "\n",
    "if score <= 219:\n",
    "    name2 = str(input(\"What is your name: \"))\n",
    "    surname2 = str(input(\"What is your surname: \"))\n",
    "    course2 = str(input(\"what is your course: \"))\n",
    "    print(\"Sorry you didn't make the cut\")\n",
    "    \n",
    "info2 = {'Name': [(name2)], 'Surname': [(surname2)], 'Course': [(course2)]}\n",
    "    \n",
    "df = pd.DataFrame(info2)\n",
    "\n",
    "df.to_csv('not-admitted.csv')"
   ]
  },
  {
   "cell_type": "code",
   "execution_count": null,
   "id": "d0dcf9dc",
   "metadata": {},
   "outputs": [],
   "source": []
  },
  {
   "cell_type": "code",
   "execution_count": null,
   "id": "0415705e",
   "metadata": {},
   "outputs": [],
   "source": []
  }
 ],
 "metadata": {
  "kernelspec": {
   "display_name": "Python 3 (ipykernel)",
   "language": "python",
   "name": "python3"
  },
  "language_info": {
   "codemirror_mode": {
    "name": "ipython",
    "version": 3
   },
   "file_extension": ".py",
   "mimetype": "text/x-python",
   "name": "python",
   "nbconvert_exporter": "python",
   "pygments_lexer": "ipython3",
   "version": "3.10.9"
  }
 },
 "nbformat": 4,
 "nbformat_minor": 5
}
