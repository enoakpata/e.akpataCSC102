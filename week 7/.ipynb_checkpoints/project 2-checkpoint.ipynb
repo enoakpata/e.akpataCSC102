{
 "cells": [
  {
   "cell_type": "code",
   "execution_count": 2,
   "id": "e039f4fd",
   "metadata": {},
   "outputs": [
    {
     "name": "stdout",
     "output_type": "stream",
     "text": [
      "What is your delivery location: lekki\n",
      "What is the weight of your package: 34\n",
      "Invalid input\n"
     ]
    }
   ],
   "source": [
    "def delivery(location, weight):\n",
    "    location = input(\"What is your delivery location: \").lower()\n",
    "    weight = int(input(\"What is the weight of your package: \"))\n",
    "\n",
    "    if location == 'ibeju-lekki' and weight >= 10:\n",
    "        print('Your total cost is N2000')\n",
    "\n",
    "    elif location == 'ibeju-lekki' and weight <= 10:\n",
    "        print('Your total cost is N1500')\n",
    "    \n",
    "    elif location == 'epe' and weight >= 10:\n",
    "        print('Your total cost is N5000')\n",
    "    \n",
    "    elif location == 'epe' and weight <= 10:\n",
    "        print('Your total cost is N4000')\n",
    "    \n",
    "    else:\n",
    "        print('Invalid input')\n",
    "\n",
    "delivery('location', 'weight')\n",
    "\n"
   ]
  },
  {
   "cell_type": "code",
   "execution_count": null,
   "id": "fefc7e95",
   "metadata": {},
   "outputs": [],
   "source": []
  }
 ],
 "metadata": {
  "kernelspec": {
   "display_name": "Python 3 (ipykernel)",
   "language": "python",
   "name": "python3"
  },
  "language_info": {
   "codemirror_mode": {
    "name": "ipython",
    "version": 3
   },
   "file_extension": ".py",
   "mimetype": "text/x-python",
   "name": "python",
   "nbconvert_exporter": "python",
   "pygments_lexer": "ipython3",
   "version": "3.10.9"
  }
 },
 "nbformat": 4,
 "nbformat_minor": 5
}
