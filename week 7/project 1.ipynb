{
 "cells": [
  {
   "cell_type": "code",
   "execution_count": 2,
   "id": "1d3dc1d8",
   "metadata": {},
   "outputs": [
    {
     "name": "stdout",
     "output_type": "stream",
     "text": [
      "What is your first name: Oluwatamilore\n",
      "What is your department: Logistics\n",
      "WELCOME!\n"
     ]
    }
   ],
   "source": [
    "# importing pandas package\n",
    "import pandas as pd\n",
    "\n",
    "# making data frame from csv file\n",
    "\n",
    "name = input('What is your first name: ')\n",
    "department = input('What is your department: ')\n",
    "    \n",
    "df = pd.read_csv(\"jt-ventures.csv\")\n",
    "if df[(df['FIRST NAME'] == name) &  (df['DEPARTMENT'] == department)].shape[0] > 0:\n",
    "        print('WELCOME!')\n",
    "        df\n",
    "        \n",
    "else:\n",
    "    print('Sorry you are not an employee')\n",
    "        \n"
   ]
  },
  {
   "cell_type": "code",
   "execution_count": null,
   "id": "3c7cade9",
   "metadata": {},
   "outputs": [],
   "source": []
  }
 ],
 "metadata": {
  "kernelspec": {
   "display_name": "Python 3 (ipykernel)",
   "language": "python",
   "name": "python3"
  },
  "language_info": {
   "codemirror_mode": {
    "name": "ipython",
    "version": 3
   },
   "file_extension": ".py",
   "mimetype": "text/x-python",
   "name": "python",
   "nbconvert_exporter": "python",
   "pygments_lexer": "ipython3",
   "version": "3.10.9"
  }
 },
 "nbformat": 4,
 "nbformat_minor": 5
}
