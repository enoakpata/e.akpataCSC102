{
 "cells": [
  {
   "cell_type": "code",
   "execution_count": 2,
   "id": "aa4cb35a",
   "metadata": {},
   "outputs": [
    {
     "name": "stdout",
     "output_type": "stream",
     "text": [
      "What is your name: eno\n",
      "what is your course: isms\n",
      "what is your jamb score: 245\n",
      "How many distinctions did you have: 7\n",
      "What was your feedback on the interview: pass\n",
      "YOU HAVE BEEN ADMITTED\n"
     ]
    }
   ],
   "source": [
    "import pandas as pd\n",
    "\n",
    "\n",
    "name = input(\"What is your name: \")\n",
    "course = input(\"what is your course: \")\n",
    "score = int(input(\"what is your jamb score: \"))\n",
    "\n",
    "admitted = []\n",
    "notadmitted = []\n",
    "\n",
    "if score >= 220:\n",
    "    distinctions = int(input(\"How many distinctions did you have: \"))\n",
    "    if distinctions >= 5:\n",
    "        interview = input(\"What was your feedback on the interview: \").lower()\n",
    "        if interview == 'pass':\n",
    "            print(\"YOU HAVE BEEN ADMITTED\")\n",
    "            \n",
    "            adm = {'Name': [(name)], 'Course': [(course)], 'JAMB': [(score)], \n",
    "                   'Distinctions': [(distinctions)], 'Interview': [(interview)]}\n",
    "            admitted.append(adm)\n",
    "\n",
    "            \n",
    "            df = pd.DataFrame(adm)\n",
    "            df.to_csv('admitted.csv')\n",
    "\n",
    "elif score < 220:\n",
    "    print(\"You aren't admitted\")\n",
    "\n",
    "                        \n",
    "    notadm = {'Name': name, 'Course': course, 'JAMB': score}\n",
    "    notadmitted.append(notadm)\n",
    "\n",
    "            \n",
    "    df = pd.DataFrame(notadm)\n",
    "    df.to_csv('not-admitted.csv')\n"
   ]
  },
  {
   "cell_type": "code",
   "execution_count": null,
   "id": "bd4caaca",
   "metadata": {},
   "outputs": [],
   "source": []
  }
 ],
 "metadata": {
  "kernelspec": {
   "display_name": "Python 3 (ipykernel)",
   "language": "python",
   "name": "python3"
  },
  "language_info": {
   "codemirror_mode": {
    "name": "ipython",
    "version": 3
   },
   "file_extension": ".py",
   "mimetype": "text/x-python",
   "name": "python",
   "nbconvert_exporter": "python",
   "pygments_lexer": "ipython3",
   "version": "3.10.9"
  }
 },
 "nbformat": 4,
 "nbformat_minor": 5
}
