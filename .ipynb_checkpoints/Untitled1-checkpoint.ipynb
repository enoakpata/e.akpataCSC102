{
 "cells": [
  {
   "cell_type": "code",
   "execution_count": 1,
   "id": "b9e1d243",
   "metadata": {},
   "outputs": [
    {
     "data": {
      "text/html": [
       "<div>\n",
       "<style scoped>\n",
       "    .dataframe tbody tr th:only-of-type {\n",
       "        vertical-align: middle;\n",
       "    }\n",
       "\n",
       "    .dataframe tbody tr th {\n",
       "        vertical-align: top;\n",
       "    }\n",
       "\n",
       "    .dataframe thead th {\n",
       "        text-align: right;\n",
       "    }\n",
       "</style>\n",
       "<table border=\"1\" class=\"dataframe\">\n",
       "  <thead>\n",
       "    <tr style=\"text-align: right;\">\n",
       "      <th></th>\n",
       "      <th>Company</th>\n",
       "      <th>Company shares</th>\n",
       "      <th>Company liability</th>\n",
       "      <th>Founding Date</th>\n",
       "      <th>Percentage leverage</th>\n",
       "    </tr>\n",
       "  </thead>\n",
       "  <tbody>\n",
       "    <tr>\n",
       "      <th>0</th>\n",
       "      <td>Enron</td>\n",
       "      <td>1000000</td>\n",
       "      <td>200000</td>\n",
       "      <td>1987</td>\n",
       "      <td>80%</td>\n",
       "    </tr>\n",
       "    <tr>\n",
       "      <th>1</th>\n",
       "      <td>Anderson</td>\n",
       "      <td>1500000</td>\n",
       "      <td>500000</td>\n",
       "      <td>1936</td>\n",
       "      <td>66%</td>\n",
       "    </tr>\n",
       "    <tr>\n",
       "      <th>2</th>\n",
       "      <td>GK Jones</td>\n",
       "      <td>3000000</td>\n",
       "      <td>1500000</td>\n",
       "      <td>2001</td>\n",
       "      <td>50%</td>\n",
       "    </tr>\n",
       "    <tr>\n",
       "      <th>3</th>\n",
       "      <td>Mica</td>\n",
       "      <td>250000</td>\n",
       "      <td>50000</td>\n",
       "      <td>1996</td>\n",
       "      <td>80%</td>\n",
       "    </tr>\n",
       "    <tr>\n",
       "      <th>4</th>\n",
       "      <td>Dune</td>\n",
       "      <td>800000</td>\n",
       "      <td>300000</td>\n",
       "      <td>2008</td>\n",
       "      <td>62.5%</td>\n",
       "    </tr>\n",
       "  </tbody>\n",
       "</table>\n",
       "</div>"
      ],
      "text/plain": [
       "    Company  Company shares  Company liability  Founding Date  \\\n",
       "0     Enron         1000000             200000           1987   \n",
       "1  Anderson         1500000             500000           1936   \n",
       "2  GK Jones         3000000            1500000           2001   \n",
       "3      Mica          250000              50000           1996   \n",
       "4      Dune          800000             300000           2008   \n",
       "\n",
       "  Percentage leverage  \n",
       "0                 80%  \n",
       "1                 66%  \n",
       "2                 50%  \n",
       "3                 80%  \n",
       "4               62.5%  "
      ]
     },
     "execution_count": 1,
     "metadata": {},
     "output_type": "execute_result"
    }
   ],
   "source": [
    "import pandas as pd\n",
    "\n",
    "data = {'Company':['Enron', 'Anderson', 'GK Jones', 'Mica', 'Dune'],\n",
    "        'Company shares':[1000000, 1500000, 3000000, 250000, 800000],\n",
    "       'Company liability':[200000, 500000, 1500000, 50000, 300000],\n",
    "       'Founding Date':[1987, 1936, 2001, 1996, 2008], \n",
    "       'Percentage leverage': ['80%', '66%', '50%', '80%', '62.5%']}\n",
    "\n",
    "df = pd.DataFrame(data)\n",
    "df.to_csv('financial_crisis.csv')\n",
    "df"
   ]
  },
  {
   "cell_type": "code",
   "execution_count": null,
   "id": "bb380c0c",
   "metadata": {},
   "outputs": [],
   "source": []
  }
 ],
 "metadata": {
  "kernelspec": {
   "display_name": "Python 3 (ipykernel)",
   "language": "python",
   "name": "python3"
  },
  "language_info": {
   "codemirror_mode": {
    "name": "ipython",
    "version": 3
   },
   "file_extension": ".py",
   "mimetype": "text/x-python",
   "name": "python",
   "nbconvert_exporter": "python",
   "pygments_lexer": "ipython3",
   "version": "3.10.9"
  }
 },
 "nbformat": 4,
 "nbformat_minor": 5
}
