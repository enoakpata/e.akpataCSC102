{
 "cells": [
  {
   "cell_type": "code",
   "execution_count": 6,
   "id": "53e57e9f",
   "metadata": {},
   "outputs": [
    {
     "name": "stdout",
     "output_type": "stream",
     "text": [
      "        Name  Age  Height  Score\n",
      "0   Samantha   17     5.5     80\n",
      "1       Jada   16     6.0     85\n",
      "2       Jane   17     5.4     70\n",
      "3     Claire   18     5.9     60\n",
      "4  Elizabeth   16     5.6     76\n",
      "5       Mary   18     5.5     66\n",
      "6      Susan   17     6.1     87\n",
      "7       Waje   20     6.0     95\n",
      "8     Taibat   19     5.7     50\n",
      "9     Lilian   17     5.5     49\n",
      "\n",
      "\n",
      "      Name  Age  Height  Score\n",
      "0  Charles   19     5.7     74\n",
      "1     Jude   16     5.9     87\n",
      "2    James   18     5.8     75\n",
      "3   Kelvin   17     6.1     68\n",
      "4   Biodun   20     5.9     66\n",
      "5     Wale   19     5.5     78\n",
      "6    Kunle   16     6.1     87\n",
      "7  Matthew   18     5.4     98\n",
      "8      Tom   17     5.8     54\n",
      "9   Kayode   19     5.7     60\n"
     ]
    }
   ],
   "source": [
    "# Create a dictionary with data for girls\n",
    "import pandas as pd\n",
    "\n",
    "Girls = {'Name': ['Samantha','Jada','Jane','Claire','Elizabeth','Mary','Susan','Waje','Taibat','Lilian'],\n",
    "         'Age':[17,16,17,18,16,18,17,20,19,17],\n",
    "        'Height': [5.5,6.0,5.4,5.9,5.6,5.5,6.1,6.0,5.7,5.5],\n",
    "        'Score': [80,85,70,60,76,66,87,95,50,49]}\n",
    "df = pd.DataFrame(Girls, columns=[\"Name\", \"Age\", \"Height\", \"Score\"])\n",
    "print(df)\n",
    "\n",
    "print(\"\\n\")\n",
    "\n",
    "Boys = {'Name': ['Charles','Jude','James','Kelvin', 'Biodun', 'Wale','Kunle','Matthew','Tom','Kayode'],\n",
    "       'Age':[19,16,18,17,20,19,16,18,17,19,],\n",
    "       'Height': [5.7,5.9,5.8,6.1,5.9,5.5,6.1,5.4,5.8,5.7],\n",
    "       'Score': [74,87,75,68,66,78,87,98,54,60]}\n",
    "df = pd.DataFrame(Boys, columns=[\"Name\", \"Age\", \"Height\", \"Score\"])\n",
    "print(df)\n"
   ]
  },
  {
   "cell_type": "code",
   "execution_count": null,
   "id": "fa6b27ca",
   "metadata": {},
   "outputs": [],
   "source": []
  }
 ],
 "metadata": {
  "kernelspec": {
   "display_name": "Python 3 (ipykernel)",
   "language": "python",
   "name": "python3"
  },
  "language_info": {
   "codemirror_mode": {
    "name": "ipython",
    "version": 3
   },
   "file_extension": ".py",
   "mimetype": "text/x-python",
   "name": "python",
   "nbconvert_exporter": "python",
   "pygments_lexer": "ipython3",
   "version": "3.10.9"
  }
 },
 "nbformat": 4,
 "nbformat_minor": 5
}
