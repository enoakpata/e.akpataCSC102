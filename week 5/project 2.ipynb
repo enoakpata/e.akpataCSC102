{
 "cells": [
  {
   "cell_type": "code",
   "execution_count": 6,
   "id": "ff53a292",
   "metadata": {},
   "outputs": [
    {
     "name": "stdout",
     "output_type": "stream",
     "text": [
      "Enter your years of experience: 26\n",
      "Enter your age: 56\n"
     ]
    }
   ],
   "source": [
    "experience = int(input(\"Enter your years of experience: \"))\n",
    "age = int(input(\"Enter your age: \"))\n",
    "\n",
    "if experience > 25 and age > 55:\n",
    "    print(\"Your annual tax revenue is N5,600,000\")\n",
    "\n",
    "elif experience > 20 and age >= 45:\n",
    "    print(\"Your annual tax revenue is N4,480,000\")\n",
    "    \n",
    "elif experience > 10 and age >= 35:\n",
    "    print(\"Your annual tax revenue is N1,500,000\")\n",
    "    \n",
    "elif experience < 10 and age < 35:\n",
    "    print(\"Your annual tax revenue is N550,000\")\n",
    "\n"
   ]
  },
  {
   "cell_type": "code",
   "execution_count": null,
   "id": "e989faa1",
   "metadata": {},
   "outputs": [],
   "source": []
  }
 ],
 "metadata": {
  "kernelspec": {
   "display_name": "Python 3 (ipykernel)",
   "language": "python",
   "name": "python3"
  },
  "language_info": {
   "codemirror_mode": {
    "name": "ipython",
    "version": 3
   },
   "file_extension": ".py",
   "mimetype": "text/x-python",
   "name": "python",
   "nbconvert_exporter": "python",
   "pygments_lexer": "ipython3",
   "version": "3.10.9"
  }
 },
 "nbformat": 4,
 "nbformat_minor": 5
}
