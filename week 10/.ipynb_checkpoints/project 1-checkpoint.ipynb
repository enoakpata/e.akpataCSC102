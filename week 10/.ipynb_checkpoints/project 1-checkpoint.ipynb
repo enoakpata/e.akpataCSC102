{
 "cells": [
  {
   "cell_type": "code",
   "execution_count": 1,
   "id": "7cbc4da8",
   "metadata": {},
   "outputs": [
    {
     "name": "stdout",
     "output_type": "stream",
     "text": [
      "How many oranges do you want: 65\n",
      "Please choose a number less than 50\n"
     ]
    }
   ],
   "source": [
    "class oranges:\n",
    "    \n",
    "    def __init__(self, number):\n",
    "        self.number = number\n",
    "        \n",
    "    def stock_quantity(self):\n",
    "        if number > 50:\n",
    "            print('Please choose a number less than 50')\n",
    "            \n",
    "            return\n",
    "        elif number < 50:\n",
    "            print('Thank you for your patronage')\n",
    "            object.total()\n",
    "            \n",
    "class cost(oranges):\n",
    "    \n",
    "    def __init__(self, price):\n",
    "        self.price = price\n",
    "        \n",
    "    def total(self):\n",
    "        amount = 100 * number\n",
    "        print('Your total is', amount)\n",
    "        \n",
    "number = float(input('How many oranges do you want: '))\n",
    "\n",
    "object = cost('price')\n",
    "object.stock_quantity()\n",
    "object.tota())"
   ]
  },
  {
   "cell_type": "code",
   "execution_count": null,
   "id": "e760c9d6",
   "metadata": {},
   "outputs": [],
   "source": []
  }
 ],
 "metadata": {
  "kernelspec": {
   "display_name": "Python 3 (ipykernel)",
   "language": "python",
   "name": "python3"
  },
  "language_info": {
   "codemirror_mode": {
    "name": "ipython",
    "version": 3
   },
   "file_extension": ".py",
   "mimetype": "text/x-python",
   "name": "python",
   "nbconvert_exporter": "python",
   "pygments_lexer": "ipython3",
   "version": "3.10.9"
  }
 },
 "nbformat": 4,
 "nbformat_minor": 5
}
